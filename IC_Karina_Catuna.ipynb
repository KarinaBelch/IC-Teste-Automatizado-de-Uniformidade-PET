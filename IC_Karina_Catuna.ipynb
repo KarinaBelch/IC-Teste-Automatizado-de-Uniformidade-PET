{
  "nbformat": 4,
  "nbformat_minor": 0,
  "metadata": {
    "colab": {
      "provenance": [],
      "authorship_tag": "ABX9TyOm5M2bp4wHDj27jsIilkX8",
      "include_colab_link": true
    },
    "kernelspec": {
      "name": "python3",
      "display_name": "Python 3"
    },
    "language_info": {
      "name": "python"
    }
  },
  "cells": [
    {
      "cell_type": "markdown",
      "metadata": {
        "id": "view-in-github",
        "colab_type": "text"
      },
      "source": [
        "<a href=\"https://colab.research.google.com/github/KarinaBelch/IC-Teste-Automatizado-de-Uniformidade-PET/blob/main/IC_Karina_Catuna.ipynb\" target=\"_parent\"><img src=\"https://colab.research.google.com/assets/colab-badge.svg\" alt=\"Open In Colab\"/></a>"
      ]
    },
    {
      "cell_type": "markdown",
      "source": [
        "# Teste Automatizado de Uniformidade para Instrumentação de Positron Emission Tomography (PET)"
      ],
      "metadata": {
        "id": "9amayaXxZxEh"
      }
    },
    {
      "cell_type": "code",
      "source": [
        "# @title Importando Bibliotecas\n",
        "\n",
        "# Instalação de pacotes\n",
        "!pip install pynrrd SimpleITK pydicom\n",
        "\n",
        "# Manipulação de dados e arrays\n",
        "import numpy as np\n",
        "import pandas as pd\n",
        "\n",
        "# Leitura e manipulação de arquivos médicos\n",
        "# import nrrd\n",
        "import SimpleITK as sitk\n",
        "import pydicom\n",
        "\n",
        "# Manipulação de arquivos e compressão\n",
        "import os\n",
        "import zipfile\n",
        "from io import BytesIO\n",
        "\n",
        "# Visualização\n",
        "import matplotlib.pyplot as plt\n",
        "\n",
        "# Widgets interativos\n",
        "from ipywidgets import interact, widgets\n",
        "\n",
        "# Processamento de imagens\n",
        "from PIL import Image\n",
        "from skimage import color, img_as_ubyte, img_as_float\n",
        "from skimage.feature import canny\n",
        "from skimage.transform import hough_circle, hough_circle_peaks, hough_ellipse\n",
        "from skimage.draw import circle_perimeter, ellipse_perimeter\n",
        "from skimage.draw import polygon\n",
        "from skimage.draw import disk\n",
        "\n",
        "# Processamento morfológico e preenchimento\n",
        "from scipy import ndimage"
      ],
      "metadata": {
        "cellView": "form",
        "id": "HsOzvjJabuR1",
        "colab": {
          "base_uri": "https://localhost:8080/"
        },
        "outputId": "c9171cef-bfa6-452d-8506-600ab23891a7"
      },
      "execution_count": 119,
      "outputs": [
        {
          "output_type": "stream",
          "name": "stdout",
          "text": [
            "Requirement already satisfied: pynrrd in /usr/local/lib/python3.11/dist-packages (1.1.3)\n",
            "Requirement already satisfied: SimpleITK in /usr/local/lib/python3.11/dist-packages (2.5.2)\n",
            "Requirement already satisfied: pydicom in /usr/local/lib/python3.11/dist-packages (3.0.1)\n",
            "Requirement already satisfied: numpy>=1.21 in /usr/local/lib/python3.11/dist-packages (from pynrrd) (2.0.2)\n",
            "Requirement already satisfied: typing_extensions in /usr/local/lib/python3.11/dist-packages (from pynrrd) (4.14.1)\n"
          ]
        }
      ]
    },
    {
      "cell_type": "code",
      "source": [
        "# @title Importando Google Drive\n",
        "from google.colab import drive\n",
        "drive.mount('/content/drive')"
      ],
      "metadata": {
        "colab": {
          "base_uri": "https://localhost:8080/"
        },
        "id": "H1RjD0UbcT9P",
        "outputId": "01a4fb07-b350-4de7-976e-cbf53d5f44f0",
        "cellView": "form"
      },
      "execution_count": 120,
      "outputs": [
        {
          "output_type": "stream",
          "name": "stdout",
          "text": [
            "Drive already mounted at /content/drive; to attempt to forcibly remount, call drive.mount(\"/content/drive\", force_remount=True).\n"
          ]
        }
      ]
    },
    {
      "cell_type": "code",
      "source": [
        "# @title Obtendo arquivo DICOM\n",
        "\n",
        "dicom_dir = \"/content/drive/MyDrive/IC2024/Aquis1\"\n",
        "dicom_files = []\n",
        "\n",
        "for root, dirs, files in os.walk(dicom_dir):\n",
        "    for file in files:\n",
        "        if file.endswith(\".dcm\"):\n",
        "            dicom_files.append(os.path.join(root, file))\n",
        "\n",
        "print(\"Arquivos DICOM encontrados:\", len(dicom_files))"
      ],
      "metadata": {
        "id": "j_UWYYnVeqOL",
        "cellView": "form",
        "colab": {
          "base_uri": "https://localhost:8080/"
        },
        "outputId": "9c70aa1a-6612-4873-c432-6439471c8b23"
      },
      "execution_count": 121,
      "outputs": [
        {
          "output_type": "stream",
          "name": "stdout",
          "text": [
            "Arquivos DICOM encontrados: 45\n"
          ]
        }
      ]
    },
    {
      "cell_type": "code",
      "source": [
        "# @title Ordenando as fatias\n",
        "\n",
        "# Ordenar por InstanceNumber (ordem axial)\n",
        "slices = [pydicom.dcmread(f) for f in dicom_files]\n",
        "slices = [s for s in slices if hasattr(s, 'InstanceNumber')]\n",
        "slices.sort(key=lambda s: s.InstanceNumber)\n",
        "\n",
        "# Converter para volume 3D\n",
        "volume = np.stack([s.pixel_array for s in slices])\n",
        "\n",
        "print(\"Volume 3D:\", volume.shape)  # (profundidade, altura, largura)"
      ],
      "metadata": {
        "id": "i0Qwdj-feRcf",
        "cellView": "form",
        "colab": {
          "base_uri": "https://localhost:8080/"
        },
        "outputId": "304466e3-c39d-48bb-b3e7-0121b8909a77"
      },
      "execution_count": 122,
      "outputs": [
        {
          "output_type": "stream",
          "name": "stdout",
          "text": [
            "Volume 3D: (45, 144, 144)\n"
          ]
        }
      ]
    },
    {
      "cell_type": "code",
      "source": [
        "# @title Plotando fatias\n",
        "'''\n",
        "def show_slice(i):\n",
        "    plt.figure(figsize=(5,5))\n",
        "    plt.imshow(volume[i], cmap='gray')\n",
        "    plt.title(f\"Slice {i}\")\n",
        "    plt.axis(\"off\")\n",
        "    plt.show()\n",
        "\n",
        "interact(show_slice, i=widgets.IntSlider(min=0, max=volume.shape[0]-1, step=1, value=0))'''"
      ],
      "metadata": {
        "cellView": "form",
        "id": "KnBs0Cbgfx-A",
        "colab": {
          "base_uri": "https://localhost:8080/",
          "height": 53
        },
        "outputId": "77543912-a68e-4a81-d06f-b799bf518ee0"
      },
      "execution_count": 123,
      "outputs": [
        {
          "output_type": "execute_result",
          "data": {
            "text/plain": [
              "'\\ndef show_slice(i):\\n    plt.figure(figsize=(5,5))\\n    plt.imshow(volume[i], cmap=\\'gray\\')\\n    plt.title(f\"Slice {i}\")\\n    plt.axis(\"off\")\\n    plt.show()\\n\\ninteract(show_slice, i=widgets.IntSlider(min=0, max=volume.shape[0]-1, step=1, value=0))'"
            ],
            "application/vnd.google.colaboratory.intrinsic+json": {
              "type": "string"
            }
          },
          "metadata": {},
          "execution_count": 123
        }
      ]
    },
    {
      "cell_type": "code",
      "source": [
        "# @title Função para Criar a Máscara\n",
        "def funcMascaraCircularReduzida(image_rgb, scale):\n",
        "\n",
        "    edges = canny(image_rgb, sigma=5, low_threshold=0.1, high_threshold=0.2)\n",
        "\n",
        "    hough_radii = np.arange(0, image_rgb.shape[0], 1)\n",
        "    hough_res = hough_circle(edges, hough_radii)\n",
        "\n",
        "    accums, cx, cy, radii = hough_circle_peaks(hough_res, hough_radii, total_num_peaks=1)\n",
        "\n",
        "    if len(cx) == 0:\n",
        "        empty_mask = np.zeros_like(image_rgb, dtype=bool)\n",
        "        empty_edges = np.zeros_like(image_rgb, dtype=bool)\n",
        "        return empty_edges, empty_mask, 0, 0, 0\n",
        "\n",
        "    # Cria círculo com raio reduzido\n",
        "    r_reduzido = int(radii[0] * scale)\n",
        "    rr, cc = disk((cy[0], cx[0]), r_reduzido, shape=image_rgb.shape)\n",
        "\n",
        "    mask = np.zeros_like(image_rgb, dtype=bool)\n",
        "    mask[rr, cc] = True\n",
        "\n",
        "    return edges, mask, r_reduzido, cx[0], cy[0]"
      ],
      "metadata": {
        "id": "vECPqvUB7W4x",
        "cellView": "form"
      },
      "execution_count": 124,
      "outputs": []
    },
    {
      "cell_type": "code",
      "source": [
        "# @title Declarando os arrays\n",
        "# Prepara array para armazenar volume preenchido\n",
        "\n",
        "edges_volume = np.zeros_like(volume, dtype=np.uint8)\n",
        "filled_volume = np.zeros_like(volume, dtype=np.uint8)\n",
        "raio_volume = np.zeros(len(dicom_files))\n",
        "cx_volume = np.zeros(len(dicom_files))\n",
        "cy_volume = np.zeros(len(dicom_files))"
      ],
      "metadata": {
        "id": "IRn8IF1-VjQ8",
        "cellView": "form"
      },
      "execution_count": 125,
      "outputs": []
    },
    {
      "cell_type": "code",
      "source": [
        "# @title Populando os arrays\n",
        "for i in range(volume.shape[0]):\n",
        "\n",
        "    image = volume[i]\n",
        "    image_rgb = img_as_float(image)\n",
        "\n",
        "    edges, filled, raio, cx, cy = funcMascaraCircularReduzida(image_rgb, scale=0.9)\n",
        "    edges_volume[i] = edges\n",
        "    filled_volume[i] = filled\n",
        "    raio_volume[i] = raio\n",
        "    cx_volume[i] = cx\n",
        "    cy_volume[i] = cy"
      ],
      "metadata": {
        "cellView": "form",
        "id": "TVqoePNDk6bD"
      },
      "execution_count": 126,
      "outputs": []
    },
    {
      "cell_type": "code",
      "source": [
        "# @title Criando a máscara\n",
        "imagem_mascara = filled_volume*volume"
      ],
      "metadata": {
        "cellView": "form",
        "id": "iiUiiaH8kOQP"
      },
      "execution_count": 127,
      "outputs": []
    },
    {
      "cell_type": "code",
      "source": [
        "# @title Plotando gráficos com as imagens\n",
        "'''\n",
        "def show_slice(i):\n",
        "    image = volume[i]\n",
        "\n",
        "    image_rgb = img_as_float(image)\n",
        "    edges_rgb = img_as_float(edges_volume[i])\n",
        "    filled_rgb = img_as_float(filled_volume[i])\n",
        "    imagem_mascara\n",
        "\n",
        "    fig, axs = plt.subplots(1, 4, figsize=(15, 10))\n",
        "\n",
        "    axs[0].imshow(image_rgb, cmap='gray')\n",
        "    axs[0].set_title(f'Imagem Original (slice {i})')\n",
        "    axs[0].axis('off')\n",
        "\n",
        "    axs[1].imshow(edges_rgb, cmap='gray')\n",
        "    axs[1].set_title('Borda')\n",
        "    axs[1].axis('off')\n",
        "\n",
        "    axs[2].imshow(filled_rgb, cmap='gray')\n",
        "    axs[2].set_title('Borda Reduzida e Preenchida (90%)')\n",
        "    axs[2].axis('off')\n",
        "\n",
        "    axs[3].imshow(imagem_mascara[i], cmap='gray')\n",
        "    axs[3].set_title('Imagem com a máscara aplicada')\n",
        "    axs[3].axis('off')\n",
        "\n",
        "    plt.show()\n",
        "\n",
        "interact(show_slice, i=widgets.IntSlider(min=0, max=volume.shape[0]-1, step=1, value=0))\n",
        "'''"
      ],
      "metadata": {
        "id": "KHOhtb6h9Rbc",
        "colab": {
          "base_uri": "https://localhost:8080/",
          "height": 122
        },
        "cellView": "form",
        "outputId": "f77bc1c2-edc6-43e1-d4cb-2a7498f6677a"
      },
      "execution_count": 128,
      "outputs": [
        {
          "output_type": "execute_result",
          "data": {
            "text/plain": [
              "\"\\ndef show_slice(i):\\n    image = volume[i]\\n\\n    image_rgb = img_as_float(image)\\n    edges_rgb = img_as_float(edges_volume[i])\\n    filled_rgb = img_as_float(filled_volume[i])\\n    imagem_mascara\\n\\n    fig, axs = plt.subplots(1, 4, figsize=(15, 10))\\n\\n    axs[0].imshow(image_rgb, cmap='gray')\\n    axs[0].set_title(f'Imagem Original (slice {i})')\\n    axs[0].axis('off')\\n\\n    axs[1].imshow(edges_rgb, cmap='gray')\\n    axs[1].set_title('Borda')\\n    axs[1].axis('off')\\n\\n    axs[2].imshow(filled_rgb, cmap='gray')\\n    axs[2].set_title('Borda Reduzida e Preenchida (90%)')\\n    axs[2].axis('off')\\n\\n    axs[3].imshow(imagem_mascara[i], cmap='gray')\\n    axs[3].set_title('Imagem com a máscara aplicada')\\n    axs[3].axis('off')\\n\\n    plt.show()\\n\\ninteract(show_slice, i=widgets.IntSlider(min=0, max=volume.shape[0]-1, step=1, value=0))\\n\""
            ],
            "application/vnd.google.colaboratory.intrinsic+json": {
              "type": "string"
            }
          },
          "metadata": {},
          "execution_count": 128
        }
      ]
    },
    {
      "cell_type": "code",
      "source": [
        "# @title Função para retirar espaços em branco da imagem\n",
        "def recorta_por_circulo(image, cx, cy, raio):\n",
        "    h, w = image.shape[:2]\n",
        "\n",
        "    if (h == 0 or w == 0):\n",
        "        return np.zeros_like(image)\n",
        "\n",
        "    # Limites do retângulo\n",
        "    x_min = max(int(cx - raio + 1), 0)\n",
        "    x_max = min(int(cx + raio), w)\n",
        "    y_min = max(int(cy - raio + 1), 0)\n",
        "    y_max = min(int(cy + raio), h)\n",
        "\n",
        "    if y_max <= y_min or x_max <= x_min:\n",
        "      return np.zeros_like(image)\n",
        "\n",
        "    # Recorta\n",
        "    recorte = image[y_min:y_max, x_min:x_max]\n",
        "\n",
        "    return recorte"
      ],
      "metadata": {
        "id": "ZkKACC4gGTxN",
        "cellView": "form"
      },
      "execution_count": 129,
      "outputs": []
    },
    {
      "cell_type": "code",
      "source": [
        "# @title Chamando a função\n",
        "\n",
        "imagem_cortada_volume = []\n",
        "\n",
        "for i in range(len(volume)):\n",
        "    imagem_cortada = recorta_por_circulo(imagem_mascara[i], cx_volume[i], cy_volume[i], raio_volume[i])\n",
        "    imagem_cortada_volume.append(imagem_cortada)"
      ],
      "metadata": {
        "id": "ykPpQj3mjcfK",
        "cellView": "form"
      },
      "execution_count": 130,
      "outputs": []
    },
    {
      "cell_type": "code",
      "source": [
        "# @title Plotando gráfico\n",
        "'''\n",
        "def show_slice(i):\n",
        "    plt.figure(figsize=(5,5))\n",
        "    plt.imshow(imagem_cortada_volume[i], cmap='gray')\n",
        "    plt.title(f\"Slice {i}\")\n",
        "    plt.show()\n",
        "\n",
        "interact(show_slice, i=widgets.IntSlider(min=0, max=volume.shape[0]-1, step=1, value=0))\n",
        "'''"
      ],
      "metadata": {
        "id": "BnnuWy7xH4Ed",
        "colab": {
          "base_uri": "https://localhost:8080/",
          "height": 53
        },
        "cellView": "form",
        "outputId": "f9ea6d9e-8caa-4a69-bd34-e567f20cc5b4"
      },
      "execution_count": 131,
      "outputs": [
        {
          "output_type": "execute_result",
          "data": {
            "text/plain": [
              "'\\ndef show_slice(i):\\n    plt.figure(figsize=(5,5))\\n    plt.imshow(imagem_cortada_volume[i], cmap=\\'gray\\')\\n    plt.title(f\"Slice {i}\")\\n    plt.show()\\n\\ninteract(show_slice, i=widgets.IntSlider(min=0, max=volume.shape[0]-1, step=1, value=0))\\n'"
            ],
            "application/vnd.google.colaboratory.intrinsic+json": {
              "type": "string"
            }
          },
          "metadata": {},
          "execution_count": 131
        }
      ]
    },
    {
      "cell_type": "markdown",
      "source": [
        "# Metodo 1 | Miller | 7 Circulos"
      ],
      "metadata": {
        "id": "SoswbdKfqdUO"
      }
    },
    {
      "cell_type": "code",
      "source": [
        "# @title Função para criar os 7 círculos\n",
        "def func_Circulos(imagemCortada):\n",
        "    diametro = imagemCortada.shape[0]\n",
        "    nx = ny = diametro\n",
        "\n",
        "    # Centros e distâncias\n",
        "    cx = (nx // 2) + 1\n",
        "    cy = (ny // 2) + 1\n",
        "    dx = (nx // 3) + 1\n",
        "    dy = (ny // 3) + 1\n",
        "\n",
        "    # Raios\n",
        "    rx = dx / 2\n",
        "    ry = dy / 2\n",
        "\n",
        "    x, y = np.meshgrid(np.arange(1, nx+1), np.arange(1, ny+1))\n",
        "\n",
        "    lista_circulos = []\n",
        "\n",
        "    for i in [-1, 0, 1]:\n",
        "        Im = np.zeros((nx, ny))\n",
        "        Im[((x - cx + i * 2 * rx) ** 2 + (y - cy) ** 2) < rx ** 2] = 1\n",
        "        lista_circulos.append(Im)\n",
        "\n",
        "    for i in [-1, 1]:\n",
        "        Im = np.zeros((nx, ny))\n",
        "        Im[((x - cx + i * rx) ** 2 + (y - cy + np.sqrt(3) * rx) ** 2) < rx ** 2] = 1\n",
        "        lista_circulos.append(Im)\n",
        "\n",
        "    for i in [-1, 1]:\n",
        "        Im = np.zeros((nx, ny))\n",
        "        Im[((x - cx + i * rx) ** 2 + (y - cy - np.sqrt(3) * rx) ** 2) < rx ** 2] = 1\n",
        "        lista_circulos.append(Im)\n",
        "\n",
        "    return lista_circulos"
      ],
      "metadata": {
        "cellView": "form",
        "id": "g1rLAMSISx1e"
      },
      "execution_count": 132,
      "outputs": []
    },
    {
      "cell_type": "code",
      "source": [
        "# @title Aplicando a mascára para cada círculos\n",
        "Im_circulos_volume = []\n",
        "\n",
        "for i in range(len(imagem_cortada_volume)):\n",
        "    circulos = func_Circulos(imagem_cortada_volume[i])  # 7 imagens\n",
        "    imagens_com_circulos = [c * imagem_cortada_volume[i] for c in circulos]\n",
        "\n",
        "    # Cria a máscara unida\n",
        "    mascara_unida = np.clip(np.sum(circulos, axis=0), 0, 1)\n",
        "    imagem_unida = mascara_unida * imagem_cortada_volume[i]\n",
        "\n",
        "    imagens_com_circulos.append(imagem_unida)  # adiciona como oitava imagem\n",
        "    Im_circulos_volume.append(imagens_com_circulos)"
      ],
      "metadata": {
        "cellView": "form",
        "id": "arJtsIkIn83H"
      },
      "execution_count": 133,
      "outputs": []
    },
    {
      "cell_type": "code",
      "source": [
        "# @title Plotando as máscaras para cada círculo\n",
        "'''\n",
        "def show_slice(i):\n",
        "    fig, axs = plt.subplots(1, 9, figsize=(20, 4))\n",
        "\n",
        "    axs[0].imshow(imagem_cortada_volume[i], cmap='gray')\n",
        "    axs[0].set_title(f'Original\\n(slice {i})')\n",
        "    axs[0].axis('off')\n",
        "\n",
        "    for j in range(7):\n",
        "        axs[j+1].imshow(Im_circulos_volume[i][j], cmap='gray')\n",
        "        axs[j+1].set_title(f'Círculo {j+1}')\n",
        "        axs[j+1].axis('off')\n",
        "\n",
        "    axs[8].imshow(Im_circulos_volume[i][7], cmap='gray')\n",
        "    axs[8].set_title(\"Todos unidos\")\n",
        "    axs[8].axis('off')\n",
        "\n",
        "    plt.tight_layout()\n",
        "    plt.show()\n",
        "\n",
        "\n",
        "interact(show_slice, i=widgets.IntSlider(min=0, max=volume.shape[0]-1, step=1, value=0))\n",
        "'''"
      ],
      "metadata": {
        "id": "uTmjqZEUFj_7",
        "colab": {
          "base_uri": "https://localhost:8080/",
          "height": 105
        },
        "cellView": "form",
        "outputId": "49c19192-4d6e-4456-c8a4-c380521e8940"
      },
      "execution_count": 134,
      "outputs": [
        {
          "output_type": "execute_result",
          "data": {
            "text/plain": [
              "'\\ndef show_slice(i):\\n    fig, axs = plt.subplots(1, 9, figsize=(20, 4))\\n\\n    axs[0].imshow(imagem_cortada_volume[i], cmap=\\'gray\\')\\n    axs[0].set_title(f\\'Original\\n(slice {i})\\')\\n    axs[0].axis(\\'off\\')\\n\\n    for j in range(7):\\n        axs[j+1].imshow(Im_circulos_volume[i][j], cmap=\\'gray\\')\\n        axs[j+1].set_title(f\\'Círculo {j+1}\\')\\n        axs[j+1].axis(\\'off\\')\\n\\n    axs[8].imshow(Im_circulos_volume[i][7], cmap=\\'gray\\')\\n    axs[8].set_title(\"Todos unidos\")\\n    axs[8].axis(\\'off\\')\\n\\n    plt.tight_layout()\\n    plt.show()\\n\\n\\ninteract(show_slice, i=widgets.IntSlider(min=0, max=volume.shape[0]-1, step=1, value=0))\\n'"
            ],
            "application/vnd.google.colaboratory.intrinsic+json": {
              "type": "string"
            }
          },
          "metadata": {},
          "execution_count": 134
        }
      ]
    },
    {
      "cell_type": "code",
      "source": [
        "# @title Gerando arquivo excel\n",
        "dados = []\n",
        "\n",
        "for i, fatia in enumerate(Im_circulos_volume):  # i = índice da slice\n",
        "    for j in range(len(fatia)):  # j = índice do círculo (0 a 7, se você incluiu o unido)\n",
        "        imagem_mascarada = fatia[j]\n",
        "\n",
        "        # Pega apenas os valores dentro do círculo (ou seja, > 0)\n",
        "        valores = imagem_mascarada[imagem_mascarada > 0]\n",
        "\n",
        "        # Se não houver valores válidos (ex: tudo 0), use NaN\n",
        "        if len(valores) > 0:\n",
        "            mean = np.mean(valores)\n",
        "            min_val = min(valores)\n",
        "            max_val = max(valores)\n",
        "            std = np.std(valores)\n",
        "        else:\n",
        "            mean = min_val = max_val = std = np.nan\n",
        "\n",
        "        dados.append({\n",
        "            \"Name\": f\"S{i}C{j}\",\n",
        "            \"Slice\": i,\n",
        "            \"Circle\": j + 1,  # 1 a 7 (ou 8 se unido)\n",
        "            \"Mean\": mean,\n",
        "            \"Min\": min_val,\n",
        "            \"Max\": max_val,\n",
        "            \"Std\": std\n",
        "        })\n",
        "\n",
        "df = pd.DataFrame(dados)\n",
        "\n",
        "# Salvar como CSV ou Excel\n",
        "#df.to_csv(\"resultados_circulos.csv\", index=False)\n",
        "df.to_excel(\"resultados_circulos.xlsx\", index=False)\n",
        "\n",
        "#display(df)"
      ],
      "metadata": {
        "id": "BdgvhVCnUT8X",
        "cellView": "form"
      },
      "execution_count": 135,
      "outputs": []
    },
    {
      "cell_type": "markdown",
      "source": [
        "# Metodo 2"
      ],
      "metadata": {
        "id": "DJQ0uWIsm4Id"
      }
    },
    {
      "cell_type": "markdown",
      "source": [
        "## Para encontrar o tamanho do fisico do cilindro, obter um array com os valores da imagem (senograma)\n",
        "- Encontrar número de pixels e converter em milimetros utilizando o tamanho do pixel no dicom\n",
        "- Qualquer valor em dicom sempre será em mm"
      ],
      "metadata": {
        "id": "PBEXb_YepIqk"
      }
    },
    {
      "cell_type": "code",
      "source": [
        "# Tamanho do cilindro\n",
        "tamanhoPixel = slices[0].PixelSpacing\n",
        "print(tamanhoPixel)\n",
        "alturaPixel = imagem_cortada_volume[0].shape[0]\n",
        "print(alturaPixel)\n",
        "alturaMM = alturaPixel * tamanhoPixel[0]\n",
        "print(alturaMM)\n",
        "larguraPixel = imagem_cortada_volume[0].shape[1]\n",
        "print(larguraPixel)\n",
        "larguraMM = larguraPixel * tamanhoPixel[1]\n",
        "print(larguraMM)"
      ],
      "metadata": {
        "colab": {
          "base_uri": "https://localhost:8080/"
        },
        "id": "ILtSKR0_oGf6",
        "outputId": "c9db6e5b-2a59-4204-cabd-fd12f1a73f2f"
      },
      "execution_count": 136,
      "outputs": [
        {
          "output_type": "stream",
          "name": "stdout",
          "text": [
            "[4, 4]\n",
            "144\n",
            "576.0\n",
            "144\n",
            "576.0\n"
          ]
        }
      ]
    },
    {
      "cell_type": "code",
      "source": [
        "# Obtendo o tamanho do pixel em mm\n",
        "\n",
        "def funcQuadrados(fatia):\n",
        "  y_px_mm, x_px_mm = fatia.PixelSpacing\n",
        "\n",
        "  y_px = x_px = 12 / y_px_mm\n",
        "\n",
        "  tamanho_total = len(imagem_cortada_volume[1])\n",
        "\n",
        "  quadrante = np.array([y_px, x_px])\n",
        "  print(quadrante)\n",
        "\n",
        "  num_quadrados = int(tamanho_total/quadrante[0])\n",
        "  num_quadrados\n",
        "\n",
        "teste = funcQuadrados(slices[0])"
      ],
      "metadata": {
        "colab": {
          "base_uri": "https://localhost:8080/"
        },
        "id": "nQ-YQvPOOtlg",
        "outputId": "38ba634c-ff81-4309-89b2-21e18b107b8f"
      },
      "execution_count": 137,
      "outputs": [
        {
          "output_type": "stream",
          "name": "stdout",
          "text": [
            "[3. 3.]\n"
          ]
        }
      ]
    },
    {
      "cell_type": "code",
      "source": [
        "metodo_2 = []\n",
        "\n",
        "def analisa_uniformidade(i, imagem_completa, tamanho_bloco=3):\n",
        "    resultados = []\n",
        "\n",
        "    for i in range(len(imagem_completa)):\n",
        "      imagem = imagem_completa[i]\n",
        "      h, w = imagem.shape\n",
        "\n",
        "      for y in range(0, h, tamanho_bloco):\n",
        "          for x in range(0, w, tamanho_bloco):\n",
        "              bloco = imagem[y:y+tamanho_bloco, x:x+tamanho_bloco]\n",
        "\n",
        "              # Pula blocos com todos os valores 0 (fora da área útil)\n",
        "              if np.all(bloco == 0):\n",
        "                  continue\n",
        "\n",
        "              # Considera apenas os valores maiores que zero\n",
        "              pixels_validos = bloco[bloco > 0]\n",
        "\n",
        "              if pixels_validos.size == 0:\n",
        "                  continue\n",
        "\n",
        "              resultados.append({\n",
        "                  \"slice\": i,\n",
        "                  \"x\": x,\n",
        "                  \"y\": y,\n",
        "                  \"mean\": np.mean(pixels_validos),\n",
        "                  \"min\": np.min(pixels_validos),\n",
        "                  \"max\": np.max(pixels_validos),\n",
        "                  \"std\": np.std(pixels_validos)\n",
        "              })\n",
        "\n",
        "    df = pd.DataFrame(resultados)\n",
        "    return df\n",
        "\n",
        "metodo_2 = analisa_uniformidade(i, imagem_cortada_volume, tamanho_bloco=3)\n",
        "\n",
        "metodo_2.to_excel(\"resultados_circulos_metodo_2.xlsx\", index=False)\n",
        "\n",
        "#display(metodo_2)"
      ],
      "metadata": {
        "id": "U_yuhcX4zJcW"
      },
      "execution_count": 138,
      "outputs": []
    },
    {
      "cell_type": "markdown",
      "source": [
        "Ajustes:\n",
        "## Obter 8x8mm de ROI dos quadrantes do phanton"
      ],
      "metadata": {
        "id": "nKrsFwL9rUnj"
      }
    },
    {
      "cell_type": "code",
      "source": [
        "mascara = sitk.BinaryThreshold(sitk.GetImageFromArray(volume), lowerThreshold=0, upperThreshold=0.1, insideValue=1, outsideValue=0)\n",
        "\n",
        "mask_array = sitk.GetArrayFromImage(mascara)"
      ],
      "metadata": {
        "id": "hvtcdC4DfOsS"
      },
      "execution_count": 139,
      "outputs": []
    },
    {
      "cell_type": "markdown",
      "source": [
        "# Streamlit"
      ],
      "metadata": {
        "id": "U2UG9pYNGkil"
      }
    },
    {
      "cell_type": "code",
      "source": [
        "!pip install -q streamlit"
      ],
      "metadata": {
        "id": "zKrQ10fO_CcR"
      },
      "execution_count": 140,
      "outputs": []
    },
    {
      "cell_type": "code",
      "source": [
        "%%writefile app.py\n",
        "\n",
        "import streamlit as st\n",
        "import streamlit as st\n",
        "import pandas as pd\n",
        "import numpy as np\n",
        "import chardet\n",
        "import matplotlib.pyplot as plt\n",
        "from io import BytesIO\n",
        "import nrrd\n",
        "import SimpleITK as sitk\n",
        "import pydicom\n",
        "from ipywidgets import interact\n",
        "import ipywidgets as widgets\n",
        "import zipfile\n",
        "import os\n",
        "import shutil\n",
        "\n",
        "from PIL import Image\n",
        "\n",
        "# Titulo da página\n",
        "st.set_page_config(page_title='Projeto de Iniciação Científica', page_icon='🥼', layout='wide')\n",
        "st.title('Automated Uniformity Testing PET Instrumentation')\n",
        "st.info('Projeto de Iniciação Cientifica referente ao curso de Engenharia Biomédica da Universidade Federal do ABC.')\n",
        "\n",
        "# Menu Lateral\n",
        "st.sidebar.header(\"Menu\")\n",
        "st.sidebar.caption(\"Leitura de arquivos DICOM.\")\n",
        "\n",
        "# Upload do arquivo\n",
        "uploaded_zip = st.file_uploader(label='Upload your DICOM file:', type=\"zip\")\n",
        "\n",
        "if uploaded_zip:\n",
        "    temp_dir = \"temp_upload\"\n",
        "\n",
        "    # Limpar e criar diretório temporário\n",
        "    if os.path.exists(temp_dir):\n",
        "        shutil.rmtree(temp_dir)\n",
        "    os.makedirs(temp_dir)\n",
        "\n",
        "    # Salvar arquivo zip\n",
        "    zip_path = os.path.join(temp_dir, \"uploaded.zip\")\n",
        "    with open(zip_path, \"wb\") as f:\n",
        "        f.write(uploaded_zip.getbuffer())\n",
        "\n",
        "    # Extrair arquivos do zip\n",
        "    with zipfile.ZipFile(zip_path, \"r\") as zip_ref:\n",
        "        zip_ref.extractall(temp_dir)\n",
        "\n",
        "    # Listar arquivos .dcm\n",
        "    dicom_files = []\n",
        "    for root, dirs, files in os.walk(temp_dir):\n",
        "        for file in files:\n",
        "            if file.endswith(\".dcm\"):\n",
        "                dicom_files.append(os.path.join(root, file))\n",
        "\n",
        "    st.write(\"Arquivos DICOM encontrados:\", len(dicom_files))\n",
        "\n",
        "    # Ler e ordenar as fatias\n",
        "    slices = [pydicom.dcmread(f) for f in dicom_files if f.endswith(\".dcm\")]\n",
        "    slices = [s for s in slices if hasattr(s, 'InstanceNumber')]\n",
        "    slices.sort(key=lambda s: s.InstanceNumber)\n",
        "\n",
        "    # Criar volume 3D\n",
        "    volume = np.stack([s.pixel_array for s in slices])\n",
        "    st.write(\"Volume 3D:\", volume.shape)\n",
        "\n",
        "    col1, col2 = st.columns(2)\n",
        "\n",
        "    with col1:\n",
        "        idx = st.slider(\"Escolha a fatia:\", 0, volume.shape[0] - 1, 0)\n",
        "\n",
        "    with col2:\n",
        "        fig, ax = plt.subplots(figsize=(6, 6))\n",
        "        ax.imshow(volume[idx], cmap=\"gray\")\n",
        "        ax.set_title(f\"Slice {idx}\")\n",
        "        ax.axis(\"off\")\n",
        "        st.pyplot(fig)"
      ],
      "metadata": {
        "colab": {
          "base_uri": "https://localhost:8080/"
        },
        "id": "9asP9DUs7_2b",
        "outputId": "fea81720-3bc4-4a15-ba5a-e30db1104a09"
      },
      "execution_count": 141,
      "outputs": [
        {
          "output_type": "stream",
          "name": "stdout",
          "text": [
            "Overwriting app.py\n"
          ]
        }
      ]
    },
    {
      "cell_type": "code",
      "source": [
        "#!npm install localtunnel"
      ],
      "metadata": {
        "id": "v652Kt-g8N9B"
      },
      "execution_count": 142,
      "outputs": []
    },
    {
      "cell_type": "code",
      "source": [
        "#!npm audit fix --force"
      ],
      "metadata": {
        "id": "LrVjupAsBMKL"
      },
      "execution_count": 143,
      "outputs": []
    },
    {
      "cell_type": "code",
      "source": [
        "#!curl https://loca.lt/mytunnelpassword"
      ],
      "metadata": {
        "id": "HrJVClR5_qoD"
      },
      "execution_count": 144,
      "outputs": []
    },
    {
      "cell_type": "code",
      "source": [
        "#!streamlit run app.py &>/content/logs.txt &"
      ],
      "metadata": {
        "id": "3uLaJdNq8heC"
      },
      "execution_count": 145,
      "outputs": []
    },
    {
      "cell_type": "code",
      "source": [
        "##!npx localtunnel --port 8501"
      ],
      "metadata": {
        "id": "tpNrUQo980R3"
      },
      "execution_count": 146,
      "outputs": []
    },
    {
      "cell_type": "code",
      "source": [],
      "metadata": {
        "id": "piLc7fGZAmvo"
      },
      "execution_count": 146,
      "outputs": []
    }
  ]
}